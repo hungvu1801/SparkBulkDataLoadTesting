{
 "cells": [
  {
   "cell_type": "code",
   "execution_count": 1,
   "id": "67497d7f-0c49-42b0-93f9-fa2d6a04ffe1",
   "metadata": {},
   "outputs": [],
   "source": [
    "import findspark\n",
    "\n",
    "findspark.init()"
   ]
  },
  {
   "cell_type": "code",
   "execution_count": 3,
   "id": "cf9891a2-3682-458d-808f-eed3b5b45a8f",
   "metadata": {},
   "outputs": [],
   "source": [
    "from pyspark.sql import SparkSession\n",
    "from pyspark.sql.functions import col, struct, lit, array"
   ]
  },
  {
   "cell_type": "code",
   "execution_count": 4,
   "id": "00fbceb8-d91c-4c0e-82c7-3144f7f42e69",
   "metadata": {},
   "outputs": [
    {
     "name": "stderr",
     "output_type": "stream",
     "text": [
      "WARNING: An illegal reflective access operation has occurred\n",
      "WARNING: Illegal reflective access by org.apache.spark.unsafe.Platform (file:/usr/local/spark/spark-3.1.2-bin-hadoop2.7/jars/spark-unsafe_2.12-3.1.2.jar) to constructor java.nio.DirectByteBuffer(long,int)\n",
      "WARNING: Please consider reporting this to the maintainers of org.apache.spark.unsafe.Platform\n",
      "WARNING: Use --illegal-access=warn to enable warnings of further illegal reflective access operations\n",
      "WARNING: All illegal access operations will be denied in a future release\n"
     ]
    },
    {
     "name": "stdout",
     "output_type": "stream",
     "text": [
      ":: loading settings :: url = jar:file:/usr/local/spark/spark-3.1.2-bin-hadoop2.7/jars/ivy-2.4.0.jar!/org/apache/ivy/core/settings/ivysettings.xml\n"
     ]
    },
    {
     "name": "stderr",
     "output_type": "stream",
     "text": [
      "Ivy Default Cache set to: /home/mickeyvu0811/.ivy2/cache\n",
      "The jars for the packages stored in: /home/mickeyvu0811/.ivy2/jars\n",
      "org.apache.spark#spark-sql-kafka-0-10_2.12 added as a dependency\n",
      "com.datastax.spark#spark-cassandra-connector_2.12 added as a dependency\n",
      "org.mongodb.spark#mongo-spark-connector_2.12 added as a dependency\n",
      ":: resolving dependencies :: org.apache.spark#spark-submit-parent-19ae1cab-3aee-4187-9cbc-01b360792955;1.0\n",
      "\tconfs: [default]\n",
      "\tfound org.apache.spark#spark-sql-kafka-0-10_2.12;3.1.2 in central\n",
      "\tfound org.apache.spark#spark-token-provider-kafka-0-10_2.12;3.1.2 in central\n",
      "\tfound org.apache.kafka#kafka-clients;2.6.0 in central\n",
      "\tfound com.github.luben#zstd-jni;1.4.8-1 in central\n",
      "\tfound org.lz4#lz4-java;1.7.1 in central\n",
      "\tfound org.xerial.snappy#snappy-java;1.1.8.2 in central\n",
      "\tfound org.slf4j#slf4j-api;1.7.30 in central\n",
      "\tfound org.spark-project.spark#unused;1.0.0 in central\n",
      "\tfound org.apache.commons#commons-pool2;2.6.2 in central\n",
      "\tfound com.datastax.spark#spark-cassandra-connector_2.12;3.1.0 in central\n",
      "\tfound com.datastax.spark#spark-cassandra-connector-driver_2.12;3.1.0 in central\n",
      "\tfound com.datastax.oss#java-driver-core-shaded;4.12.0 in central\n",
      "\tfound com.datastax.oss#native-protocol;1.5.0 in central\n",
      "\tfound com.datastax.oss#java-driver-shaded-guava;25.1-jre-graal-sub-1 in central\n",
      "\tfound com.typesafe#config;1.4.1 in central\n",
      "\tfound io.dropwizard.metrics#metrics-core;4.1.18 in central\n",
      "\tfound org.hdrhistogram#HdrHistogram;2.1.12 in central\n",
      "\tfound org.reactivestreams#reactive-streams;1.0.3 in central\n",
      "\tfound com.github.stephenc.jcip#jcip-annotations;1.0-1 in central\n",
      "\tfound com.github.spotbugs#spotbugs-annotations;3.1.12 in central\n",
      "\tfound com.google.code.findbugs#jsr305;3.0.2 in central\n",
      "\tfound com.datastax.oss#java-driver-mapper-runtime;4.12.0 in central\n",
      "\tfound com.datastax.oss#java-driver-query-builder;4.12.0 in central\n",
      "\tfound org.apache.commons#commons-lang3;3.10 in central\n",
      "\tfound com.thoughtworks.paranamer#paranamer;2.8 in central\n",
      "\tfound org.scala-lang#scala-reflect;2.12.11 in central\n",
      "\tfound org.mongodb.spark#mongo-spark-connector_2.12;3.0.1 in central\n",
      "\tfound org.mongodb#mongodb-driver-sync;4.0.5 in central\n",
      "\tfound org.mongodb#bson;4.0.5 in central\n",
      "\tfound org.mongodb#mongodb-driver-core;4.0.5 in central\n",
      ":: resolution report :: resolve 596ms :: artifacts dl 16ms\n",
      "\t:: modules in use:\n",
      "\tcom.datastax.oss#java-driver-core-shaded;4.12.0 from central in [default]\n",
      "\tcom.datastax.oss#java-driver-mapper-runtime;4.12.0 from central in [default]\n",
      "\tcom.datastax.oss#java-driver-query-builder;4.12.0 from central in [default]\n",
      "\tcom.datastax.oss#java-driver-shaded-guava;25.1-jre-graal-sub-1 from central in [default]\n",
      "\tcom.datastax.oss#native-protocol;1.5.0 from central in [default]\n",
      "\tcom.datastax.spark#spark-cassandra-connector-driver_2.12;3.1.0 from central in [default]\n",
      "\tcom.datastax.spark#spark-cassandra-connector_2.12;3.1.0 from central in [default]\n",
      "\tcom.github.luben#zstd-jni;1.4.8-1 from central in [default]\n",
      "\tcom.github.spotbugs#spotbugs-annotations;3.1.12 from central in [default]\n",
      "\tcom.github.stephenc.jcip#jcip-annotations;1.0-1 from central in [default]\n",
      "\tcom.google.code.findbugs#jsr305;3.0.2 from central in [default]\n",
      "\tcom.thoughtworks.paranamer#paranamer;2.8 from central in [default]\n",
      "\tcom.typesafe#config;1.4.1 from central in [default]\n",
      "\tio.dropwizard.metrics#metrics-core;4.1.18 from central in [default]\n",
      "\torg.apache.commons#commons-lang3;3.10 from central in [default]\n",
      "\torg.apache.commons#commons-pool2;2.6.2 from central in [default]\n",
      "\torg.apache.kafka#kafka-clients;2.6.0 from central in [default]\n",
      "\torg.apache.spark#spark-sql-kafka-0-10_2.12;3.1.2 from central in [default]\n",
      "\torg.apache.spark#spark-token-provider-kafka-0-10_2.12;3.1.2 from central in [default]\n",
      "\torg.hdrhistogram#HdrHistogram;2.1.12 from central in [default]\n",
      "\torg.lz4#lz4-java;1.7.1 from central in [default]\n",
      "\torg.mongodb#bson;4.0.5 from central in [default]\n",
      "\torg.mongodb#mongodb-driver-core;4.0.5 from central in [default]\n",
      "\torg.mongodb#mongodb-driver-sync;4.0.5 from central in [default]\n",
      "\torg.mongodb.spark#mongo-spark-connector_2.12;3.0.1 from central in [default]\n",
      "\torg.reactivestreams#reactive-streams;1.0.3 from central in [default]\n",
      "\torg.scala-lang#scala-reflect;2.12.11 from central in [default]\n",
      "\torg.slf4j#slf4j-api;1.7.30 from central in [default]\n",
      "\torg.spark-project.spark#unused;1.0.0 from central in [default]\n",
      "\torg.xerial.snappy#snappy-java;1.1.8.2 from central in [default]\n",
      "\t:: evicted modules:\n",
      "\torg.slf4j#slf4j-api;1.7.26 by [org.slf4j#slf4j-api;1.7.30] in [default]\n",
      "\t---------------------------------------------------------------------\n",
      "\t|                  |            modules            ||   artifacts   |\n",
      "\t|       conf       | number| search|dwnlded|evicted|| number|dwnlded|\n",
      "\t---------------------------------------------------------------------\n",
      "\t|      default     |   31  |   0   |   0   |   1   ||   30  |   0   |\n",
      "\t---------------------------------------------------------------------\n",
      ":: retrieving :: org.apache.spark#spark-submit-parent-19ae1cab-3aee-4187-9cbc-01b360792955\n",
      "\tconfs: [default]\n",
      "\t0 artifacts copied, 30 already retrieved (0kB/10ms)\n",
      "23/09/22 18:00:11 WARN NativeCodeLoader: Unable to load native-hadoop library for your platform... using builtin-java classes where applicable\n",
      "Setting default log level to \"WARN\".\n",
      "To adjust logging level use sc.setLogLevel(newLevel). For SparkR, use setLogLevel(newLevel).\n"
     ]
    }
   ],
   "source": [
    "spark = SparkSession.builder.appName(\"test\").master(\"local\").getOrCreate()"
   ]
  },
  {
   "cell_type": "code",
   "execution_count": 5,
   "id": "4a851cef-1202-49eb-ae83-c721b03c1f3d",
   "metadata": {},
   "outputs": [
    {
     "data": {
      "text/plain": [
       "Column<'struct(INSERT AS `operation`, NULL AS `oldValue` AS `partyAddress`)'>"
      ]
     },
     "execution_count": 5,
     "metadata": {},
     "output_type": "execute_result"
    }
   ],
   "source": []
  },
  {
   "cell_type": "code",
   "execution_count": 8,
   "id": "99793191-81e7-4162-8028-ed3493f18a61",
   "metadata": {},
   "outputs": [],
   "source": [
    "df = spark.read \\\n",
    ".format(\"csv\") \\\n",
    ".option(\"path\", \"../test_data/accounts/account_samples.csv\") \\\n",
    ".option(\"header\", True) \\\n",
    ".load()"
   ]
  },
  {
   "cell_type": "code",
   "execution_count": 9,
   "id": "ec988df3-3713-43c3-bed5-79acbca62e12",
   "metadata": {},
   "outputs": [
    {
     "name": "stdout",
     "output_type": "stream",
     "text": [
      "+----------+----------+----------+----------+--------------------+------------------+--------------+-----------+------------------+-----------+-------------+\n",
      "| load_date|active_ind|account_id|source_sys|  account_start_date|     legal_title_1| legal_title_2|tax_id_type|            tax_id|branch_code|      country|\n",
      "+----------+----------+----------+----------+--------------------+------------------+--------------+-----------+------------------+-----------+-------------+\n",
      "|2022-08-02|         1|6982391060|       COH|2018-03-24T13:56:...|     Tiffany Riley|Matthew Davies|        EIN|ZLCK91795330413525|   ACXMGBA5|       Mexico|\n",
      "|2022-08-02|         1|6982391061|       ADS|2018-07-19T11:24:...|   Garcia and Sons| Taylor Guzman|        SSP|CADU39916151090321|   SHJFGBML|United States|\n",
      "|2022-08-02|         1|6982391067|       BDL|2018-08-29T17:18:...|        Acosta Inc|  David Walker|        SSP|UJLN20870916345792|   WZTEGBTG|       Canada|\n",
      "|2022-08-02|         0|6982391063|       ADS|2019-02-15T09:46:...|Christopher Moreno|          null|        CPR|APVN98456428071508|   KRGZGB9S|       Canada|\n",
      "|2022-08-02|         1|6982391064|       ADS|2018-03-28T15:47:...|       Allen Group|          null|        CPR|WJMX61093523376960|   OCCKGB65|       Canada|\n",
      "|2022-08-02|         1|6982391065|       COR|2018-06-30T22:33:...|      Austin Miles|          null|        EIN|TYAB75470638120665|   XCVKGB49|       Canada|\n",
      "|2022-08-02|         1|6982391066|       BDL|2017-08-25T03:00:...|     Miss Lisa Lee|          null|        SSP|WFDP61047142851240|   CVYEGBJC|United States|\n",
      "|2022-08-02|         1|6982391062|       CML|2017-09-24T08:14:...|      Theresa Mays|          null|        CPR|WTUP76582369402245|   XCVKGB49|       Canada|\n",
      "|2022-08-02|         1|6982391068|       BDL|2018-05-11T15:24:...|     Amanda Martin|          null|        EIN|JDPX30428146546118|   ACXMGBA5|       Mexico|\n",
      "+----------+----------+----------+----------+--------------------+------------------+--------------+-----------+------------------+-----------+-------------+\n",
      "\n"
     ]
    }
   ],
   "source": [
    "df.show()"
   ]
  },
  {
   "cell_type": "code",
   "execution_count": 14,
   "id": "9d15a43a-5463-460f-b11b-69ea9a496c6d",
   "metadata": {},
   "outputs": [],
   "source": [
    "df = spark.read \\\n",
    ".format(\"csv\") \\\n",
    ".option(\"path\", \"../test_data/party_address/address_samples.csv\") \\\n",
    ".option(\"header\", True) \\\n",
    ".load()"
   ]
  },
  {
   "cell_type": "code",
   "execution_count": 15,
   "id": "e4ce21d2-69ef-4137-bb20-49b23ac6e43d",
   "metadata": {},
   "outputs": [
    {
     "name": "stdout",
     "output_type": "stream",
     "text": [
      "+----------+----------+--------------------+--------------------+-------------------+-----------+------------------+------------------+\n",
      "| load_date|  party_id|      address_line_1|      address_line_2|               city|postal_code|country_of_address|address_start_date|\n",
      "+----------+----------+--------------------+--------------------+-------------------+-----------+------------------+------------------+\n",
      "|2022-08-02|9823462810|   45229 Drake Route|   13306 Corey Point|          Shanefort|      77163|            Canada|        2019-02-26|\n",
      "|2022-08-02|9823462811|  361 Robinson Green|3511 Rebecca Mission|        North Tyler|      34118|            Canada|        2018-01-28|\n",
      "|2022-08-02|9823462812|    039 Daniel Mount|8219 Hernandez Lo...|      Boltonborough|      71648|            Mexico|        2018-12-07|\n",
      "|2022-08-02|9823462813|  05550 Nancy Rapids| 9471 Zachary Canyon|     East Davidport|      02504|     United States|        2019-04-02|\n",
      "|2022-08-02|9823462814|   5227 Wagner Pines|189 Julie Throughway|        West Amanda|      78962|            Canada|        2018-07-11|\n",
      "|2022-08-02|9823462815|    6993 Diane Alley|  8945 Trevor Greens|         Kendrafurt|      50790|     United States|        2017-10-08|\n",
      "|2022-08-02|9823462816|23450 Timothy Divide|125 Johnson Mount...|        Osbornetown|      04756|            Canada|        2018-11-28|\n",
      "|2022-08-02|9823462817|      251 Lee Tunnel|09795 Tara Statio...|New Michelleborough|      05505|     United States|        2019-04-20|\n",
      "|2022-08-02|9823462818|    7537 Clarke Club|   74089 Jerry Trail|        Hunterville|      19596|     United States|        2018-07-17|\n",
      "+----------+----------+--------------------+--------------------+-------------------+-----------+------------------+------------------+\n",
      "\n"
     ]
    }
   ],
   "source": [
    "df.show()"
   ]
  },
  {
   "cell_type": "code",
   "execution_count": 16,
   "id": "214c18a1-5b04-42bd-bf5e-c6f07569765c",
   "metadata": {},
   "outputs": [],
   "source": [
    "address = struct(\n",
    "    col(\"address_line_1\").alias(\"addressLine1\"),\n",
    "    col(\"address_line_2\").alias(\"addressLine2\"),\n",
    "    col(\"city\").alias(\"addressCity\"),\n",
    "    col(\"postal_code\").alias(\"addressPostalCode\"),\n",
    "    col(\"country_of_address\").alias(\"addressCountry\"),\n",
    "    col(\"address_start_date\").alias(\"addressStartDate\")\n",
    ")"
   ]
  },
  {
   "cell_type": "code",
   "execution_count": 20,
   "id": "3f3c9c92-b2a3-44a5-b56b-6ae182091cae",
   "metadata": {},
   "outputs": [
    {
     "name": "stdout",
     "output_type": "stream",
     "text": [
      "+----------+----------------------------------------------------------------------------------------------------------------------------------------------------------------------------------------------------------------------------------------------------------------------------------------------------------+\n",
      "|party_id  |struct(INSERT AS `operation`, struct(address_line_1 AS `addressLine1`, address_line_2 AS `addressLine2`, city AS `addressCity`, postal_code AS `addressPostalCode`, country_of_address AS `addressCountry`, address_start_date AS `addressStartDate`) AS `newValue`, NULL AS `oldValue` AS `partyAddress`)|\n",
      "+----------+----------------------------------------------------------------------------------------------------------------------------------------------------------------------------------------------------------------------------------------------------------------------------------------------------------+\n",
      "|9823462810|{INSERT, {45229 Drake Route, 13306 Corey Point, Shanefort, 77163, Canada, 2019-02-26}, null}                                                                                                                                                                                                              |\n",
      "|9823462811|{INSERT, {361 Robinson Green, 3511 Rebecca Mission, North Tyler, 34118, Canada, 2018-01-28}, null}                                                                                                                                                                                                        |\n",
      "|9823462812|{INSERT, {039 Daniel Mount, 8219 Hernandez Lodge Suite 875, Boltonborough, 71648, Mexico, 2018-12-07}, null}                                                                                                                                                                                              |\n",
      "|9823462813|{INSERT, {05550 Nancy Rapids, 9471 Zachary Canyon, East Davidport, 02504, United States, 2019-04-02}, null}                                                                                                                                                                                               |\n",
      "|9823462814|{INSERT, {5227 Wagner Pines, 189 Julie Throughway, West Amanda, 78962, Canada, 2018-07-11}, null}                                                                                                                                                                                                         |\n",
      "|9823462815|{INSERT, {6993 Diane Alley, 8945 Trevor Greens, Kendrafurt, 50790, United States, 2017-10-08}, null}                                                                                                                                                                                                      |\n",
      "|9823462816|{INSERT, {23450 Timothy Divide, 125 Johnson Mountain Suite 701, Osbornetown, 04756, Canada, 2018-11-28}, null}                                                                                                                                                                                            |\n",
      "|9823462817|{INSERT, {251 Lee Tunnel, 09795 Tara Station Suite 264, New Michelleborough, 05505, United States, 2019-04-20}, null}                                                                                                                                                                                     |\n",
      "|9823462818|{INSERT, {7537 Clarke Club, 74089 Jerry Trail, Hunterville, 19596, United States, 2018-07-17}, null}                                                                                                                                                                                                      |\n",
      "+----------+----------------------------------------------------------------------------------------------------------------------------------------------------------------------------------------------------------------------------------------------------------------------------------------------------------+\n",
      "\n"
     ]
    }
   ],
   "source": [
    "df.select(\"party_id\", struct(lit(\"INSERT\").alias(\"operation\"), address.alias(\"newValue\"), lit(None).alias(\"oldValue\").alias(\"partyAddress\"))).show(truncate=False)"
   ]
  },
  {
   "cell_type": "code",
   "execution_count": null,
   "id": "8a9629f6-febe-4d15-b9a8-3c8dd93605db",
   "metadata": {},
   "outputs": [],
   "source": []
  }
 ],
 "metadata": {
  "kernelspec": {
   "display_name": "Python 3 (ipykernel)",
   "language": "python",
   "name": "python3"
  },
  "language_info": {
   "codemirror_mode": {
    "name": "ipython",
    "version": 3
   },
   "file_extension": ".py",
   "mimetype": "text/x-python",
   "name": "python",
   "nbconvert_exporter": "python",
   "pygments_lexer": "ipython3",
   "version": "3.10.12"
  }
 },
 "nbformat": 4,
 "nbformat_minor": 5
}
